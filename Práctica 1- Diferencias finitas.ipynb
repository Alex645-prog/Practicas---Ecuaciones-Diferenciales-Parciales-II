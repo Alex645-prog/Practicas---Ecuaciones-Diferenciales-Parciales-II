{
 "cells": [
  {
   "cell_type": "markdown",
   "id": "6ed192ae-e3dd-444f-b77d-bfd37e895e2d",
   "metadata": {},
   "source": [
    "# Ecuaciones Diferenciales Parciales II - Práctica 1"
   ]
  },
  {
   "cell_type": "markdown",
   "id": "c88b695e-63f2-446f-a9f1-e52a3fdfc2f0",
   "metadata": {},
   "source": [
    "## Alejandro Felipe Aviles - 6MV1  \n",
    "Aproximar las primeras derivadas de las siguientes funciones empleando diferencias dinitas hacia adelante, hacia atrás, centradas. Calcule el error absoluto de la aproximación. Considere $h=0.1, 0.01, 0.001, 0.0001, 0.00001, 0.000001$.  \n",
    "1. $f(x)=\\dfrac{x}{\\sqrt{x^2+9}},\\,x=3$\n",
    "2. $f(x)=\\dfrac{x^3}{x^2+1},\\,x=2$\n",
    "3. $f(x)=\\ln{(\\cos{(x)+\\sin{(x)}})},\\,x=\\dfrac{\\pi}{2}$\n",
    "4. $f(x)=e^{x}\\cos{(x)},\\,x=\\pi$"
   ]
  },
  {
   "cell_type": "markdown",
   "id": "bad555a8-e6bf-4e7e-8ceb-91243b6d9a20",
   "metadata": {},
   "source": [
    "**1)**"
   ]
  },
  {
   "cell_type": "code",
   "execution_count": 7,
   "id": "ee9d7d2f-8dc5-4875-a612-6e1f3dc89c6d",
   "metadata": {},
   "outputs": [
    {
     "name": "stdout",
     "output_type": "stream",
     "text": [
      "Derivada exacta: %f\n",
      " 0.1178511301977579\n",
      "Diferencias finitas hacia adelante:\n",
      "[0.11495361 0.11755699 0.11782167 0.11784818 0.11785084 0.1178511 ]\n",
      "Error absoluto para diferencias finitas hacia adelante:\n",
      "[2.89752440e-03 2.94137121e-04 2.94578724e-05 2.94622966e-06\n",
      " 2.94618511e-07 2.95416612e-08]\n",
      "Diferencias finitas hacia atrás:\n",
      "[0.12084684 0.11814625 0.1178806  0.11785408 0.11785142 0.11785116]\n",
      "Error absoluto para diferencias finitas hacia atrás:\n",
      "[2.99571319e-03 2.95119212e-04 2.94676934e-05 2.94632900e-06\n",
      " 2.94632360e-07 2.96332260e-08]\n",
      "Diferencias finitas centradas:\n",
      "[0.11790022 0.11785162 0.11785114 0.11785113 0.11785113 0.11785113]\n",
      "Error absoluto para diferencias finitas centradas:\n",
      "[4.90943978e-05 4.91045351e-07 4.91050216e-09 4.96682001e-11\n",
      " 6.92459978e-12 4.57824195e-11]\n"
     ]
    }
   ],
   "source": [
    "import numpy as np\n",
    "\n",
    "# Definir la función y su derivada exacta\n",
    "def f(x):\n",
    "    return x / np.sqrt(x**2 + 9)\n",
    "\n",
    "def df_exact(x):\n",
    "    return 9 / (x**2 + 9)**(3/2)\n",
    "\n",
    "# Punto donde se quiere calcular la derivada\n",
    "x0 = 3\n",
    "\n",
    "# Valores de paso\n",
    "h = np.array([0.1, 0.01, 0.001,0.0001,0.00001,0.000001])\n",
    "\n",
    "# Diferencias finitas hacia adelante\n",
    "df_forward = (f(x0 + h) - f(x0)) / h\n",
    "error_forward = np.abs(df_forward - df_exact(x0))\n",
    "\n",
    "# Diferencias finitas hacia atrás\n",
    "df_backward = (f(x0) - f(x0 - h)) / h\n",
    "error_backward = np.abs(df_backward - df_exact(x0))\n",
    "\n",
    "# Diferencias finitas centradas\n",
    "df_centered = (f(x0 + h) - f(x0 - h)) / (2*h)\n",
    "error_centered = np.abs(df_centered - df_exact(x0))\n",
    "\n",
    "# Resultados\n",
    "print(\"Derivada exacta:\\n\",df_exact(x0))\n",
    "print(\"Diferencias finitas hacia adelante:\")\n",
    "print(df_forward)\n",
    "print(\"Error absoluto para diferencias finitas hacia adelante:\")\n",
    "print(error_forward)\n",
    "print(\"Diferencias finitas hacia atrás:\")\n",
    "print(df_backward)\n",
    "print(\"Error absoluto para diferencias finitas hacia atrás:\")\n",
    "print(error_backward)\n",
    "print(\"Diferencias finitas centradas:\")\n",
    "print(df_centered)\n",
    "print(\"Error absoluto para diferencias finitas centradas:\")\n",
    "print(error_centered)\n"
   ]
  },
  {
   "cell_type": "markdown",
   "id": "c55cccb5-89c1-4df6-a3c2-88ed67b34030",
   "metadata": {},
   "source": [
    "**2)**"
   ]
  },
  {
   "cell_type": "code",
   "execution_count": 1,
   "id": "4ca49fd3-510a-42e4-8c8b-ea996daaacfe",
   "metadata": {},
   "outputs": [
    {
     "name": "stdout",
     "output_type": "stream",
     "text": [
      "Derivada exacta: %f\n",
      " 1.12\n",
      "Diferencias finitas hacia adelante:\n",
      "[1.11829945 1.11983889 1.11998399 1.1199984  1.11999984 1.11999998]\n",
      "Error absoluto para diferencias finitas hacia adelante:\n",
      "[1.70055453e-03 1.61107915e-04 1.60111884e-05 1.60011003e-06\n",
      " 1.59995341e-07 1.59105964e-08]\n",
      "Diferencias finitas hacia atrás:\n",
      "[1.12147505 1.12015887 1.12001599 1.1200016  1.12000016 1.12000002]\n",
      "Error absoluto para diferencias finitas hacia atrás:\n",
      "[1.47505423e-03 1.58867765e-04 1.59887879e-05 1.59988801e-06\n",
      " 1.60015344e-07 1.60638267e-08]\n",
      "Diferencias finitas centradas:\n",
      "[1.11988725 1.11999888 1.11999999 1.12       1.12       1.12      ]\n",
      "Error absoluto para diferencias finitas centradas:\n",
      "[1.12750149e-04 1.12007488e-06 1.12002532e-08 1.11012532e-10\n",
      " 1.00017772e-11 7.66151587e-11]\n"
     ]
    }
   ],
   "source": [
    "import numpy as np\n",
    "\n",
    "# Definir la función y su derivada exacta\n",
    "def f(x):\n",
    "    return x**3/(x**2+1)\n",
    "\n",
    "def df_exact(x):\n",
    "    return (x**4+3*x**2)/(x**4+2*x**2+1)\n",
    "\n",
    "# Punto donde se quiere calcular la derivada\n",
    "x0 = 2\n",
    "\n",
    "# Valores de paso\n",
    "h = np.array([0.1, 0.01, 0.001,0.0001,0.00001,0.000001])\n",
    "\n",
    "# Diferencias finitas hacia adelante\n",
    "df_forward = (f(x0 + h) - f(x0)) / h\n",
    "error_forward = np.abs(df_forward - df_exact(x0))\n",
    "\n",
    "# Diferencias finitas hacia atrás\n",
    "df_backward = (f(x0) - f(x0 - h)) / h\n",
    "error_backward = np.abs(df_backward - df_exact(x0))\n",
    "\n",
    "# Diferencias finitas centradas\n",
    "df_centered = (f(x0 + h) - f(x0 - h)) / (2*h)\n",
    "error_centered = np.abs(df_centered - df_exact(x0))\n",
    "\n",
    "# Resultados\n",
    "print(\"Derivada exacta:\\n\",df_exact(x0))\n",
    "print(\"Diferencias finitas hacia adelante:\")\n",
    "print(df_forward)\n",
    "print(\"Error absoluto para diferencias finitas hacia adelante:\")\n",
    "print(error_forward)\n",
    "print(\"Diferencias finitas hacia atrás:\")\n",
    "print(df_backward)\n",
    "print(\"Error absoluto para diferencias finitas hacia atrás:\")\n",
    "print(error_backward)\n",
    "print(\"Diferencias finitas centradas:\")\n",
    "print(df_centered)\n",
    "print(\"Error absoluto para diferencias finitas centradas:\")\n",
    "print(error_centered)\n"
   ]
  },
  {
   "cell_type": "markdown",
   "id": "b754d75b-2aa7-41fc-83ad-143afc95b79c",
   "metadata": {},
   "source": [
    "**3)**"
   ]
  },
  {
   "cell_type": "code",
   "execution_count": 3,
   "id": "6f7884a5-ef21-4d43-ae8e-b4c52061d3bc",
   "metadata": {},
   "outputs": [
    {
     "name": "stdout",
     "output_type": "stream",
     "text": [
      "Derivada exacta: %f\n",
      " -0.9999999999999999\n",
      "Diferencias finitas hacia adelante:\n",
      "[-1.10740798 -1.01006734 -1.00100067 -1.00010001 -1.00001    -1.000001  ]\n",
      "Error absoluto para diferencias finitas hacia adelante:\n",
      "[1.07407983e-01 1.00673401e-02 1.00066733e-03 1.00006666e-04\n",
      " 1.00000681e-05 9.99851995e-07]\n",
      "Diferencias finitas hacia atrás:\n",
      "[-0.90606025 -0.99006601 -0.99900067 -0.99990001 -0.99999    -0.999999  ]\n",
      "Error absoluto para diferencias finitas hacia atrás:\n",
      "[9.39397474e-02 9.93399340e-03 9.99333999e-04 9.99933325e-05\n",
      " 9.99991053e-06 1.00012588e-06]\n",
      "Diferencias finitas centradas:\n",
      "[-1.00673412 -1.00006667 -1.00000067 -1.00000001 -1.         -1.        ]\n",
      "Error absoluto para diferencias finitas centradas:\n",
      "[6.73411784e-03 6.66733341e-05 6.66667201e-07 6.66677835e-09\n",
      " 7.87822030e-11 1.36944345e-10]\n"
     ]
    }
   ],
   "source": [
    "import numpy as np\n",
    "\n",
    "# Definir la función y su derivada exacta\n",
    "def f(x):\n",
    "    return np.log(np.cos(x)+np.sin(x))\n",
    "\n",
    "def df_exact(x):\n",
    "    return (np.cos(x)-np.sin(x))/(np.sin(x)+np.cos(x))\n",
    "\n",
    "# Punto donde se quiere calcular la derivada\n",
    "x0 = np.pi/2\n",
    "\n",
    "# Valores de paso\n",
    "h = np.array([0.1, 0.01, 0.001,0.0001,0.00001,0.000001])\n",
    "\n",
    "# Diferencias finitas hacia adelante\n",
    "df_forward = (f(x0 + h) - f(x0)) / h\n",
    "error_forward = np.abs(df_forward - df_exact(x0))\n",
    "\n",
    "# Diferencias finitas hacia atrás\n",
    "df_backward = (f(x0) - f(x0 - h)) / h\n",
    "error_backward = np.abs(df_backward - df_exact(x0))\n",
    "\n",
    "# Diferencias finitas centradas\n",
    "df_centered = (f(x0 + h) - f(x0 - h)) / (2*h)\n",
    "error_centered = np.abs(df_centered - df_exact(x0))\n",
    "\n",
    "# Resultados\n",
    "print(\"Derivada exacta: \\n\",df_exact(x0))\n",
    "print(\"Diferencias finitas hacia adelante:\")\n",
    "print(df_forward)\n",
    "print(\"Error absoluto para diferencias finitas hacia adelante:\")\n",
    "print(error_forward)\n",
    "print(\"Diferencias finitas hacia atrás:\")\n",
    "print(df_backward)\n",
    "print(\"Error absoluto para diferencias finitas hacia atrás:\")\n",
    "print(error_backward)\n",
    "print(\"Diferencias finitas centradas:\")\n",
    "print(df_centered)\n",
    "print(\"Error absoluto para diferencias finitas centradas:\")\n",
    "print(error_centered)\n"
   ]
  },
  {
   "cell_type": "markdown",
   "id": "01e10fb1-803f-4409-9342-28f8947b1933",
   "metadata": {},
   "source": [
    "**4)**"
   ]
  },
  {
   "cell_type": "code",
   "execution_count": 5,
   "id": "ec03d94f-c395-4fb3-85d2-689b5f9a94b3",
   "metadata": {},
   "outputs": [
    {
     "name": "stdout",
     "output_type": "stream",
     "text": [
      "Derivada exacta: \n",
      " -23.14069263277927\n",
      "Diferencias finitas hacia adelante:\n",
      "[-23.05962311 -23.13991741 -23.14068492 -23.14069256 -23.14069263\n",
      " -23.14069263]\n",
      "Error absoluto para diferencias finitas hacia adelante:\n",
      "[8.10695222e-02 7.75220917e-04 7.71742490e-06 7.70938655e-08\n",
      " 9.94742066e-10 4.26346958e-10]\n",
      "Diferencias finitas hacia atrás:\n",
      "[-23.06733667 -23.13992513 -23.14068492 -23.14069256 -23.14069263\n",
      " -23.14069264]\n",
      "Error absoluto para diferencias finitas hacia atrás:\n",
      "[7.33559598e-02 7.67507353e-04 7.70970841e-06 7.70583384e-08\n",
      " 6.39470699e-10 3.97906064e-09]\n",
      "Diferencias finitas centradas:\n",
      "[-23.06347989 -23.13992127 -23.14068492 -23.14069256 -23.14069263\n",
      " -23.14069263]\n",
      "Error absoluto para diferencias finitas centradas:\n",
      "[7.72127410e-02 7.71364135e-04 7.71356665e-06 7.70761019e-08\n",
      " 8.17106383e-10 2.20270380e-09]\n"
     ]
    }
   ],
   "source": [
    "import numpy as np\n",
    "\n",
    "# Definir la función y su derivada exacta\n",
    "def f(x):\n",
    "    return np.exp(x)*np.cos(x)\n",
    "\n",
    "def df_exact(x):\n",
    "    return np.exp(x)*np.cos(x)-np.exp(x)*np.sin(x)\n",
    "\n",
    "# Punto donde se quiere calcular la derivada\n",
    "x0 = np.pi\n",
    "\n",
    "# Valores de paso\n",
    "h = np.array([0.1, 0.01, 0.001,0.0001,0.00001,0.000001])\n",
    "\n",
    "# Diferencias finitas hacia adelante\n",
    "df_forward = (f(x0 + h) - f(x0)) / h\n",
    "error_forward = np.abs(df_forward - df_exact(x0))\n",
    "\n",
    "# Diferencias finitas hacia atrás\n",
    "df_backward = (f(x0) - f(x0 - h)) / h\n",
    "error_backward = np.abs(df_backward - df_exact(x0))\n",
    "\n",
    "# Diferencias finitas centradas\n",
    "df_centered = (f(x0 + h) - f(x0 - h)) / (2*h)\n",
    "error_centered = np.abs(df_centered - df_exact(x0))\n",
    "\n",
    "# Resultados\n",
    "print(\"Derivada exacta: \\n\",df_exact(x0))\n",
    "print(\"Diferencias finitas hacia adelante:\")\n",
    "print(df_forward)\n",
    "print(\"Error absoluto para diferencias finitas hacia adelante:\")\n",
    "print(error_forward)\n",
    "print(\"Diferencias finitas hacia atrás:\")\n",
    "print(df_backward)\n",
    "print(\"Error absoluto para diferencias finitas hacia atrás:\")\n",
    "print(error_backward)\n",
    "print(\"Diferencias finitas centradas:\")\n",
    "print(df_centered)\n",
    "print(\"Error absoluto para diferencias finitas centradas:\")\n",
    "print(error_centered)\n"
   ]
  }
 ],
 "metadata": {
  "kernelspec": {
   "display_name": "Python 3 (ipykernel)",
   "language": "python",
   "name": "python3"
  },
  "language_info": {
   "codemirror_mode": {
    "name": "ipython",
    "version": 3
   },
   "file_extension": ".py",
   "mimetype": "text/x-python",
   "name": "python",
   "nbconvert_exporter": "python",
   "pygments_lexer": "ipython3",
   "version": "3.9.2"
  }
 },
 "nbformat": 4,
 "nbformat_minor": 5
}
