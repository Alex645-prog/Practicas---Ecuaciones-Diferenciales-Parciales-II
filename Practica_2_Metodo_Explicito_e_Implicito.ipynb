{
  "nbformat": 4,
  "nbformat_minor": 0,
  "metadata": {
    "colab": {
      "provenance": []
    },
    "kernelspec": {
      "name": "python3",
      "display_name": "Python 3"
    },
    "language_info": {
      "name": "python"
    }
  },
  "cells": [
    {
      "cell_type": "markdown",
      "source": [
        "# Ecuaciones Diferenciales Parciales II - Práctica 2\n",
        "\n",
        "\n"
      ],
      "metadata": {
        "id": "J_9cF9c_mhQm"
      }
    },
    {
      "cell_type": "markdown",
      "source": [
        "## Alejandro Felipe Aviles - 6MV1 \n",
        "Emplear el m ́etodo explıcito para resolver el siguiente problema:\n",
        "\n",
        "$$U_t = U_{xx}$$\n",
        "$$U(x, 0) = 100 \\sin{(πx)}, 0 < x < 1$$\n",
        "$$U(0, t) = U(1, t) = 0, t > 0$$\n",
        "Considere los siguientes valores: $h =\\dfrac{1}{10}$ y $k =\\dfrac{1}{1000},\\dfrac{1}{2000},\\dfrac{1}{200}$. \\\\\n",
        "Calcule el error relativo en $t = 0.5$ sabiendo que el resultado anal ıtico de la EDP es $U=100e^{−π^2t}\\sin{(πx)}$."
      ],
      "metadata": {
        "id": "7jvBJr6UiOTV"
      }
    },
    {
      "cell_type": "code",
      "source": [
        "#Metodo Explicito\n",
        "\n",
        "import numpy as np\n",
        "import matplotlib.pyplot as plt\n",
        "\n",
        "h = 0.1\n",
        "ks = [1/1000, 1/2000, 1/200]\n",
        "T = 0.5\n",
        "N = int(1/h)\n",
        "\n",
        "x = np.linspace(0, 1, N+1)\n",
        "U_analytical = 100*np.exp(-np.pi**2*T/4)*np.sin(np.pi*x)\n",
        "\n",
        "for k in ks:\n",
        "    r = k/h**2\n",
        "    M = int(T/k)\n",
        "\n",
        "    U = 100*np.sin(np.pi*x)\n",
        "    U[0] = U[N] = 0\n",
        "\n",
        "    for n in range(0, M):\n",
        "        Un = U.copy()\n",
        "        for i in range(1, N):\n",
        "            U[i] = r*(Un[i+1] - 2*Un[i] + Un[i-1]) + Un[i]\n",
        "\n",
        "    eps = 1e-10\n",
        "    error = np.abs(U - U_analytical)/(U_analytical + eps)\n",
        "    relative_error = np.max(error)\n",
        "    print('k =', k, ', Error realtivo:', relative_error)\n",
        "\n",
        "\n"
      ],
      "metadata": {
        "colab": {
          "base_uri": "https://localhost:8080/"
        },
        "id": "bLWvtYCsiYeO",
        "outputId": "5479fa3a-fde4-4781-e0e4-7027ae2228ab"
      },
      "execution_count": 10,
      "outputs": [
        {
          "output_type": "stream",
          "name": "stdout",
          "text": [
            "k = 0.001 , Error realtivo: 0.9748967998780976\n",
            "k = 0.0005 , Error realtivo: 0.9745913183983804\n",
            "k = 0.005 , Error realtivo: 0.9772792901422435\n"
          ]
        }
      ]
    },
    {
      "cell_type": "code",
      "source": [
        "#Metodo Implicito\n",
        "\n",
        "h = 0.1\n",
        "ks = [1/1000, 1/2000, 1/200]\n",
        "T = 0.5\n",
        "N = int(1/h)\n",
        "\n",
        "x = np.linspace(0, 1, N+1)\n",
        "U_analytical = 100*np.exp(-np.pi**2*T/4)*np.sin(np.pi*x)\n",
        "\n",
        "for k in ks:\n",
        "    r = k/h**2\n",
        "    M = int(T/k)\n",
        "\n",
        "    U = 100*np.sin(np.pi*x)\n",
        "    U[0] = U[N] = 0\n",
        "\n",
        "    A = np.zeros((N+1, N+1))\n",
        "    for i in range(1, N):\n",
        "        A[i, i-1] = -r\n",
        "        A[i, i] = 1 + 2*r\n",
        "        A[i, i+1] = -r\n",
        "\n",
        "    A[0, 0] = 1\n",
        "    A[N, N] = 1\n",
        "\n",
        "    for n in range(0, M):\n",
        "        U = np.linalg.solve(A, U)\n",
        "\n",
        "    eps = 1e-10\n",
        "    error = np.abs(U - U_analytical)/(U_analytical + eps)\n",
        "    relative_error = np.max(error)\n",
        "    print('k =', k, ', Error relativo:', relative_error)\n",
        "\n"
      ],
      "metadata": {
        "colab": {
          "base_uri": "https://localhost:8080/"
        },
        "id": "axKQSZywkaYv",
        "outputId": "742023a2-ba40-4b3d-c448-a8eb114da1f2"
      },
      "execution_count": 12,
      "outputs": [
        {
          "output_type": "stream",
          "name": "stdout",
          "text": [
            "k = 0.001 , Relative error: 0.9736647875453249\n",
            "k = 0.0005 , Relative error: 0.9739753063293746\n",
            "k = 0.005 , Relative error: 0.9711211160658724\n"
          ]
        }
      ]
    }
  ]
}